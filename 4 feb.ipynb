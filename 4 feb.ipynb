{
 "cells": [
  {
   "cell_type": "code",
   "execution_count": null,
   "id": "e9f96cd2-0b63-47db-9889-10a9424788c1",
   "metadata": {},
   "outputs": [],
   "source": [
    "#q1"
   ]
  },
  {
   "cell_type": "code",
   "execution_count": 1,
   "id": "b1d01986-9c7f-432f-b0f1-39c29bbee2c7",
   "metadata": {},
   "outputs": [
    {
     "name": "stdout",
     "output_type": "stream",
     "text": [
      "[('Sachin Tendulkar', 34357), ('Ricky Ponting', 27483), ('Jack Kallis', 25534), ('Virat Kohli', 24936)]\n"
     ]
    }
   ],
   "source": [
    "data = [('Sachin Tendulkar', 34357), ('Ricky Ponting', 27483), ('Jack Kallis', 25534), ('Virat Kohli', 24936)]\n",
    "\n",
    "sorted_data = sorted(data, key=lambda x: x[1], reverse=True)\n",
    "\n",
    "print(sorted_data)"
   ]
  },
  {
   "cell_type": "code",
   "execution_count": null,
   "id": "e4ca8a0c-3dd9-46f8-a65a-89b8925048fc",
   "metadata": {},
   "outputs": [],
   "source": [
    "#q2"
   ]
  },
  {
   "cell_type": "code",
   "execution_count": 2,
   "id": "d90d350e-ed4e-4bd4-851d-62815d76079f",
   "metadata": {},
   "outputs": [
    {
     "name": "stdout",
     "output_type": "stream",
     "text": [
      "[1, 4, 9, 16, 25, 36, 49, 64, 81, 100]\n"
     ]
    }
   ],
   "source": [
    "data = [1, 2, 3, 4, 5, 6, 7, 8, 9, 10]\n",
    "\n",
    "squares = list(map(lambda x: x**2, data))\n",
    "\n",
    "print(squares)"
   ]
  },
  {
   "cell_type": "code",
   "execution_count": null,
   "id": "ba14e2a1-cd7b-40e3-a51e-57bdfab9b363",
   "metadata": {},
   "outputs": [],
   "source": [
    "#q3"
   ]
  },
  {
   "cell_type": "code",
   "execution_count": 3,
   "id": "e73f117d-6724-40e9-87c0-39033432fe44",
   "metadata": {},
   "outputs": [
    {
     "name": "stdout",
     "output_type": "stream",
     "text": [
      "('1', '2', '3', '4', '5', '6', '7', '8', '9', '10')\n"
     ]
    }
   ],
   "source": [
    "data = [1, 2, 3, 4, 5, 6, 7, 8, 9, 10]\n",
    "\n",
    "string_tuple = tuple(map(lambda x: str(x), data))\n",
    "\n",
    "print(string_tuple)"
   ]
  },
  {
   "cell_type": "code",
   "execution_count": null,
   "id": "d8c975ce-491a-4720-aba5-d7a9ca3566d5",
   "metadata": {},
   "outputs": [],
   "source": [
    "#q4"
   ]
  },
  {
   "cell_type": "code",
   "execution_count": 4,
   "id": "737695cd-38c8-48f5-b2bd-864ade4e3dfa",
   "metadata": {},
   "outputs": [
    {
     "name": "stdout",
     "output_type": "stream",
     "text": [
      "15511210043330985984000000\n"
     ]
    }
   ],
   "source": [
    "from functools import reduce\n",
    "\n",
    "data = list(range(1, 26))\n",
    "\n",
    "product = reduce(lambda x, y: x*y, data)\n",
    "\n",
    "print(product)"
   ]
  },
  {
   "cell_type": "code",
   "execution_count": null,
   "id": "bbe6b386-9ee5-40d7-9cbf-9f33c985d78c",
   "metadata": {},
   "outputs": [],
   "source": [
    "#q5"
   ]
  },
  {
   "cell_type": "code",
   "execution_count": 5,
   "id": "c2aeb188-58ee-4c79-b01f-de4a340b7a0a",
   "metadata": {},
   "outputs": [
    {
     "name": "stdout",
     "output_type": "stream",
     "text": [
      "[6, 60, 90, 120]\n"
     ]
    }
   ],
   "source": [
    "data = [2, 3, 6, 9, 27, 60, 90, 120, 55, 46]\n",
    "\n",
    "filtered_data = list(filter(lambda x: x % 2 == 0 and x % 3 == 0, data))\n",
    "\n",
    "print(filtered_data)\n"
   ]
  },
  {
   "cell_type": "code",
   "execution_count": null,
   "id": "877f312f-f40b-44b0-b1c7-d656b4f1c1d1",
   "metadata": {},
   "outputs": [],
   "source": [
    "#Q6"
   ]
  },
  {
   "cell_type": "code",
   "execution_count": 6,
   "id": "dc1926b4-dabb-4479-b950-1d32ef146275",
   "metadata": {},
   "outputs": [
    {
     "name": "stdout",
     "output_type": "stream",
     "text": [
      "['php', 'aba', 'radar', 'level']\n"
     ]
    }
   ],
   "source": [
    "data = ['python', 'php', 'aba', 'radar', 'level']\n",
    "\n",
    "palindromes = list(filter(lambda x: x == x[::-1], data))\n",
    "\n",
    "print(palindromes)"
   ]
  },
  {
   "cell_type": "code",
   "execution_count": null,
   "id": "1f5e1c70-3aa0-488e-a24b-3a5c8afce05f",
   "metadata": {},
   "outputs": [],
   "source": []
  },
  {
   "cell_type": "code",
   "execution_count": null,
   "id": "8bb62778-6b6d-42f2-8303-46c15642b2f1",
   "metadata": {},
   "outputs": [],
   "source": []
  },
  {
   "cell_type": "code",
   "execution_count": null,
   "id": "2a27d27d-4596-42f1-bc33-f52344b52074",
   "metadata": {},
   "outputs": [],
   "source": []
  },
  {
   "cell_type": "code",
   "execution_count": null,
   "id": "973073d0-d879-4a7a-bed2-86f4b37d0548",
   "metadata": {},
   "outputs": [],
   "source": []
  },
  {
   "cell_type": "code",
   "execution_count": null,
   "id": "7b13f4fa-f358-4f72-aea9-ce21625f34e5",
   "metadata": {},
   "outputs": [],
   "source": []
  },
  {
   "cell_type": "code",
   "execution_count": null,
   "id": "72a00b9a-4bb3-4078-a5e3-961441fbf183",
   "metadata": {},
   "outputs": [],
   "source": []
  }
 ],
 "metadata": {
  "kernelspec": {
   "display_name": "Python 3 (ipykernel)",
   "language": "python",
   "name": "python3"
  },
  "language_info": {
   "codemirror_mode": {
    "name": "ipython",
    "version": 3
   },
   "file_extension": ".py",
   "mimetype": "text/x-python",
   "name": "python",
   "nbconvert_exporter": "python",
   "pygments_lexer": "ipython3",
   "version": "3.10.6"
  }
 },
 "nbformat": 4,
 "nbformat_minor": 5
}
